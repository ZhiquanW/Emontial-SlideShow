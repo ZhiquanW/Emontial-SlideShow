{
 "cells": [
  {
   "cell_type": "code",
   "execution_count": 2,
   "metadata": {},
   "outputs": [
    {
     "output_type": "stream",
     "name": "stdout",
     "text": "The autoreload extension is already loaded. To reload it, use:\n  %reload_ext autoreload\n"
    }
   ],
   "source": [
    "import csv\n",
    "import numpy as np\n",
    "import matplotlib.pyplot as plt\n",
    "import matplotlib.image as mpimg\n",
    "from IPython.display import clear_output as clear\n",
    "from ipywidgets import IntProgress\n",
    "from IPython.display import display\n",
    "from Slide import * \n",
    "%load_ext autoreload\n",
    "%autoreload 2"
   ]
  },
  {
   "cell_type": "code",
   "execution_count": 193,
   "metadata": {},
   "outputs": [
    {
     "output_type": "display_data",
     "data": {
      "text/plain": "IntProgress(value=1, description='1-10.0%', max=10)",
      "application/vnd.jupyter.widget-view+json": {
       "version_major": 2,
       "version_minor": 0,
       "model_id": "e94dcb6b722f4c4092be55b203cac0e5"
      }
     },
     "metadata": {}
    },
    {
     "output_type": "display_data",
     "data": {
      "text/plain": "IntProgress(value=2, description='2-20.0%', max=10)",
      "application/vnd.jupyter.widget-view+json": {
       "version_major": 2,
       "version_minor": 0,
       "model_id": "e94dcb6b722f4c4092be55b203cac0e5"
      }
     },
     "metadata": {}
    },
    {
     "output_type": "display_data",
     "data": {
      "text/plain": "IntProgress(value=3, description='3-30.0%', max=10)",
      "application/vnd.jupyter.widget-view+json": {
       "version_major": 2,
       "version_minor": 0,
       "model_id": "e94dcb6b722f4c4092be55b203cac0e5"
      }
     },
     "metadata": {}
    },
    {
     "output_type": "display_data",
     "data": {
      "text/plain": "IntProgress(value=4, description='4-40.0%', max=10)",
      "application/vnd.jupyter.widget-view+json": {
       "version_major": 2,
       "version_minor": 0,
       "model_id": "e94dcb6b722f4c4092be55b203cac0e5"
      }
     },
     "metadata": {}
    },
    {
     "output_type": "display_data",
     "data": {
      "text/plain": "IntProgress(value=5, description='5-50.0%', max=10)",
      "application/vnd.jupyter.widget-view+json": {
       "version_major": 2,
       "version_minor": 0,
       "model_id": "e94dcb6b722f4c4092be55b203cac0e5"
      }
     },
     "metadata": {}
    },
    {
     "output_type": "display_data",
     "data": {
      "text/plain": "IntProgress(value=6, description='6-60.0%', max=10)",
      "application/vnd.jupyter.widget-view+json": {
       "version_major": 2,
       "version_minor": 0,
       "model_id": "e94dcb6b722f4c4092be55b203cac0e5"
      }
     },
     "metadata": {}
    },
    {
     "output_type": "display_data",
     "data": {
      "text/plain": "IntProgress(value=7, description='7-70.0%', max=10)",
      "application/vnd.jupyter.widget-view+json": {
       "version_major": 2,
       "version_minor": 0,
       "model_id": "e94dcb6b722f4c4092be55b203cac0e5"
      }
     },
     "metadata": {}
    },
    {
     "output_type": "display_data",
     "data": {
      "text/plain": "IntProgress(value=8, description='8-80.0%', max=10)",
      "application/vnd.jupyter.widget-view+json": {
       "version_major": 2,
       "version_minor": 0,
       "model_id": "e94dcb6b722f4c4092be55b203cac0e5"
      }
     },
     "metadata": {}
    },
    {
     "output_type": "display_data",
     "data": {
      "text/plain": "IntProgress(value=9, description='9-90.0%', max=10)",
      "application/vnd.jupyter.widget-view+json": {
       "version_major": 2,
       "version_minor": 0,
       "model_id": "e94dcb6b722f4c4092be55b203cac0e5"
      }
     },
     "metadata": {}
    }
   ],
   "source": [
    "max_num = 10\n",
    "slides=[]\n",
    "p_bar = IntProgress(max=max_num)\n",
    "p_bar.value = 0\n",
    "p_bar.description = 'loading'\n",
    "# load image information\n",
    "with open('data/image_info.csv') as csvfile:\n",
    "    readCSV = csv.reader(csvfile, delimiter=',')\n",
    "    for row in readCSV:\n",
    "        s_name = row[1].strip()\n",
    "        s_image = mpimg.imread('data/ImageDataset/{image_name}.jpg'.format(image_name = s_name))\n",
    "        s_valence = float(row[4])\n",
    "        s_arousal = float(row[5])\n",
    "        s_intensity = float(row[6])\n",
    "        s_dominant_color = np.array(list(map(float,row[7:10])))\n",
    "        slides.append(Slide(p_bar.value,\n",
    "                            s_name,\n",
    "                            s_image,\n",
    "                            s_valence,\n",
    "                            s_arousal,\n",
    "                            s_intensity,\n",
    "                            s_dominant_color))\n",
    "        p_bar.value += 1\n",
    "        if p_bar.value >= max_num:\n",
    "            break\n",
    "        p_bar.description = '{loaded}-{percent}%'.format(loaded=p_bar.value+1,percent=(p_bar.value+1)/max_num*100)\n",
    "        display(p_bar)\n",
    "      \n"
   ]
  },
  {
   "cell_type": "code",
   "execution_count": 189,
   "metadata": {},
   "outputs": [
    {
     "output_type": "stream",
     "name": "stdout",
     "text": "7\n"
    }
   ],
   "source": [
    "from Slide import * \n",
    "\n",
    "# load target curve information\n",
    "curve_info_mat = []\n",
    "counter = 0\n",
    "with open('data/curve_info.csv') as csvfile:\n",
    "    csv_reader = csv.reader(csvfile,delimiter = ',')\n",
    "    for row in csv_reader:\n",
    "        curve_info_mat.append(list(map(float,row)))\n",
    "target_curves = TargetCurves(curve_info_mat)\n"
   ]
  },
  {
   "cell_type": "code",
   "execution_count": 194,
   "metadata": {},
   "outputs": [
    {
     "output_type": "stream",
     "name": "stdout",
     "text": "0\n"
    },
    {
     "output_type": "error",
     "ename": "IndexError",
     "evalue": "list index out of range",
     "traceback": [
      "\u001b[1;31m---------------------------------------------------------------------------\u001b[0m",
      "\u001b[1;31mIndexError\u001b[0m                                Traceback (most recent call last)",
      "\u001b[1;32m<ipython-input-194-bdfe79d95d6c>\u001b[0m in \u001b[0;36m<module>\u001b[1;34m\u001b[0m\n\u001b[0;32m      1\u001b[0m \u001b[0mprint\u001b[0m\u001b[1;33m(\u001b[0m\u001b[0mslides\u001b[0m\u001b[1;33m[\u001b[0m\u001b[1;36m0\u001b[0m\u001b[1;33m]\u001b[0m\u001b[1;33m.\u001b[0m\u001b[0mid\u001b[0m\u001b[1;33m)\u001b[0m\u001b[1;33m\u001b[0m\u001b[1;33m\u001b[0m\u001b[0m\n\u001b[1;32m----> 2\u001b[1;33m \u001b[0mprint\u001b[0m\u001b[1;33m(\u001b[0m\u001b[0mslides\u001b[0m\u001b[1;33m[\u001b[0m\u001b[1;36m100\u001b[0m\u001b[1;33m]\u001b[0m\u001b[1;33m.\u001b[0m\u001b[0mid\u001b[0m\u001b[1;33m)\u001b[0m\u001b[1;33m\u001b[0m\u001b[1;33m\u001b[0m\u001b[0m\n\u001b[0m",
      "\u001b[1;31mIndexError\u001b[0m: list index out of range"
     ]
    }
   ],
   "source": [
    "print(slides[0].id)\n",
    "print(slides[100].id)"
   ]
  },
  {
   "cell_type": "code",
   "execution_count": 205,
   "metadata": {},
   "outputs": [],
   "source": [
    "def cal_attribute_cost(slide_show:List,target_values:List,weights:List):\n",
    "    eps = 0.0000000001\n",
    "    # valence, arousal, intensity\n",
    "    value_mat = np.array([[slide.valence, slide.arousal,slide.intensity, *slide.dominant_color] for slide in slide_show])\n",
    "    tmp_values = np.mean(value_mat,axis=0)\n",
    "    initial_costs = 1-np.exp( -np.power(tmp_values- target_values,2)/(eps + 2*np.power(target_values,2)))\n",
    "    weighted_costs = initial_costs * weights\n",
    "    vaic_total_costs = np.sum(weighted_costs)\n",
    "    return vaic_total_costs\n",
    "   \n",
    "def cal_sequence_cost(slide_show,curves,weights):\n",
    "    va_values = np.transpose(np.array([[slide.valence, slide.arousal] for slide in slide_show]))\n",
    "    costs = np.sum(np.power(va_values/va_values.max(axis=1)[:,None]-curves,2),axis=1)/10\n",
    "    return np.sum(costs * weights)\n",
    "def check_repetition(slide_show):\n",
    "    indices = [slide.id for slide in slide_show]\n",
    "    return len(indices) == len(set(indices))"
   ]
  },
  {
   "cell_type": "code",
   "execution_count": 206,
   "metadata": {},
   "outputs": [
    {
     "output_type": "stream",
     "name": "stdout",
     "text": "10\n"
    }
   ],
   "source": [
    "print(len(slides))\n",
    "A  = check_repetition(slides) * 1.0"
   ]
  },
  {
   "cell_type": "code",
   "execution_count": 207,
   "metadata": {},
   "outputs": [
    {
     "output_type": "stream",
     "name": "stdout",
     "text": "1.1453552979312276\n"
    }
   ],
   "source": [
    "target_dict = {\n",
    "    'valence': 0.5,\n",
    "    'arousal': 0.5,\n",
    "    'intensity': 0.5,\n",
    "    'R':0.5,\n",
    "    'G':0.3,\n",
    "    'B':0.4,\n",
    "    'valence_curve':target_curves.straight,\n",
    "    'arousal_curve':target_curves.straight_curve_hill,\n",
    "}\n",
    "weights_dict= {\n",
    "    'valence': 0.5,\n",
    "    'arousal': 0.5,\n",
    "    'intensity': 0.5,\n",
    "    'R':0.5,\n",
    "    'G':0.5,\n",
    "    'B':0.5,\n",
    "    'valence_curve':0.1,\n",
    "    'arousal_curve':0.1,\n",
    "    'repetition':1.0\n",
    "}\n",
    "target_values = [target_dict['valence'],\n",
    "                 target_dict['arousal'],\n",
    "                 target_dict['intensity'],\n",
    "                 target_dict['R'],\n",
    "                 target_dict['G'],\n",
    "                 target_dict['B']]\n",
    "attri_weights =  [weights_dict['valence'],\n",
    "            weights_dict['arousal'],\n",
    "            weights_dict['intensity'],\n",
    "            weights_dict['R'],\n",
    "            weights_dict['G'],\n",
    "            weights_dict['B']]\n",
    "curves = np.array([target_dict['valence_curve'],target_dict['arousal_curve']])\n",
    "curve_weights = np.array([weights_dict['valence_curve'],weights_dict['arousal_curve']])\n",
    "slideshow = slides[0:10]#np.random.choice(slides,size = 2,replace = True)\n",
    "\n",
    "print(total_cost)\n"
   ]
  },
  {
   "cell_type": "code",
   "execution_count": null,
   "metadata": {},
   "outputs": [],
   "source": [
    "MC_config = {\n",
    "    'replace':[0.5,0.5,0.5,0.5,0.5,0.75,0.75,0.75,0.75,0.75] # update each 100 iteration\n",
    "    'bad_move':\n",
    "}\n",
    "max_iteration = 1000\n",
    "total_cost = 100000000000000000000\n",
    "for i in range(max_iteration):\n",
    "    slideshow = np.random.choice(slides,size = 10,replace = True)\n",
    "    attri_c = cal_attribute_cost(slideshow,target_values,attri_weights)\n",
    "    curve_c = cal_sequence_cost(slideshow,curves,curve_weights)\n",
    "    total_cost = attri_c + curve_c + weights_dict['repetition'] * check_repetition(slides)\n",
    "plt.figure(figsize=(15,5))\n",
    "for i in range(10):\n",
    "    plt.subplot(2,5,i+1)\n",
    "    plt.imshow(slideshow[i].image)\n",
    "    plt.axis('off') # 不显示坐标轴\n",
    "\n",
    "\n",
    "plt.show()"
   ]
  }
 ],
 "metadata": {
  "language_info": {
   "codemirror_mode": {
    "name": "ipython",
    "version": 3
   },
   "file_extension": ".py",
   "mimetype": "text/x-python",
   "name": "python",
   "nbconvert_exporter": "python",
   "pygments_lexer": "ipython3",
   "version": "3.7.3-final"
  },
  "orig_nbformat": 2,
  "kernelspec": {
   "name": "python3",
   "display_name": "Python 3"
  }
 },
 "nbformat": 4,
 "nbformat_minor": 2
}